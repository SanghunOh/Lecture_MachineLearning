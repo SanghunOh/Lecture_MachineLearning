{
 "cells": [
  {
   "cell_type": "code",
   "execution_count": 1,
   "metadata": {},
   "outputs": [
    {
     "name": "stdout",
     "output_type": "stream",
     "text": [
      "EcommerceCustomers.csv  USA_Housing.csv         \u001b[31mtitanic_train.csv\u001b[m\u001b[m\r\n",
      "EcommerceCustomers.xlsx \u001b[31mtitanic_test.csv\u001b[m\u001b[m\r\n"
     ]
    }
   ],
   "source": [
    "!ls ../datas/csv"
   ]
  },
  {
   "cell_type": "code",
   "execution_count": 2,
   "metadata": {},
   "outputs": [
    {
     "data": {
      "text/html": [
       "<div>\n",
       "<style scoped>\n",
       "    .dataframe tbody tr th:only-of-type {\n",
       "        vertical-align: middle;\n",
       "    }\n",
       "\n",
       "    .dataframe tbody tr th {\n",
       "        vertical-align: top;\n",
       "    }\n",
       "\n",
       "    .dataframe thead th {\n",
       "        text-align: right;\n",
       "    }\n",
       "</style>\n",
       "<table border=\"1\" class=\"dataframe\">\n",
       "  <thead>\n",
       "    <tr style=\"text-align: right;\">\n",
       "      <th></th>\n",
       "      <th>SibSp</th>\n",
       "      <th>Parch</th>\n",
       "      <th>Sex_female</th>\n",
       "      <th>Sex_male</th>\n",
       "      <th>Embarked_C</th>\n",
       "      <th>Embarked_Q</th>\n",
       "      <th>Embarked_S</th>\n",
       "      <th>Pclass_1</th>\n",
       "      <th>Pclass_2</th>\n",
       "      <th>Pclass_3</th>\n",
       "    </tr>\n",
       "  </thead>\n",
       "  <tbody>\n",
       "    <tr>\n",
       "      <th>0</th>\n",
       "      <td>1</td>\n",
       "      <td>0</td>\n",
       "      <td>0</td>\n",
       "      <td>1</td>\n",
       "      <td>0</td>\n",
       "      <td>0</td>\n",
       "      <td>1</td>\n",
       "      <td>0</td>\n",
       "      <td>0</td>\n",
       "      <td>1</td>\n",
       "    </tr>\n",
       "    <tr>\n",
       "      <th>1</th>\n",
       "      <td>1</td>\n",
       "      <td>0</td>\n",
       "      <td>1</td>\n",
       "      <td>0</td>\n",
       "      <td>1</td>\n",
       "      <td>0</td>\n",
       "      <td>0</td>\n",
       "      <td>1</td>\n",
       "      <td>0</td>\n",
       "      <td>0</td>\n",
       "    </tr>\n",
       "    <tr>\n",
       "      <th>2</th>\n",
       "      <td>0</td>\n",
       "      <td>0</td>\n",
       "      <td>1</td>\n",
       "      <td>0</td>\n",
       "      <td>0</td>\n",
       "      <td>0</td>\n",
       "      <td>1</td>\n",
       "      <td>0</td>\n",
       "      <td>0</td>\n",
       "      <td>1</td>\n",
       "    </tr>\n",
       "    <tr>\n",
       "      <th>3</th>\n",
       "      <td>1</td>\n",
       "      <td>0</td>\n",
       "      <td>1</td>\n",
       "      <td>0</td>\n",
       "      <td>0</td>\n",
       "      <td>0</td>\n",
       "      <td>1</td>\n",
       "      <td>1</td>\n",
       "      <td>0</td>\n",
       "      <td>0</td>\n",
       "    </tr>\n",
       "    <tr>\n",
       "      <th>4</th>\n",
       "      <td>0</td>\n",
       "      <td>0</td>\n",
       "      <td>0</td>\n",
       "      <td>1</td>\n",
       "      <td>0</td>\n",
       "      <td>0</td>\n",
       "      <td>1</td>\n",
       "      <td>0</td>\n",
       "      <td>0</td>\n",
       "      <td>1</td>\n",
       "    </tr>\n",
       "    <tr>\n",
       "      <th>...</th>\n",
       "      <td>...</td>\n",
       "      <td>...</td>\n",
       "      <td>...</td>\n",
       "      <td>...</td>\n",
       "      <td>...</td>\n",
       "      <td>...</td>\n",
       "      <td>...</td>\n",
       "      <td>...</td>\n",
       "      <td>...</td>\n",
       "      <td>...</td>\n",
       "    </tr>\n",
       "    <tr>\n",
       "      <th>886</th>\n",
       "      <td>0</td>\n",
       "      <td>0</td>\n",
       "      <td>0</td>\n",
       "      <td>1</td>\n",
       "      <td>0</td>\n",
       "      <td>0</td>\n",
       "      <td>1</td>\n",
       "      <td>0</td>\n",
       "      <td>1</td>\n",
       "      <td>0</td>\n",
       "    </tr>\n",
       "    <tr>\n",
       "      <th>887</th>\n",
       "      <td>0</td>\n",
       "      <td>0</td>\n",
       "      <td>1</td>\n",
       "      <td>0</td>\n",
       "      <td>0</td>\n",
       "      <td>0</td>\n",
       "      <td>1</td>\n",
       "      <td>1</td>\n",
       "      <td>0</td>\n",
       "      <td>0</td>\n",
       "    </tr>\n",
       "    <tr>\n",
       "      <th>888</th>\n",
       "      <td>1</td>\n",
       "      <td>2</td>\n",
       "      <td>1</td>\n",
       "      <td>0</td>\n",
       "      <td>0</td>\n",
       "      <td>0</td>\n",
       "      <td>1</td>\n",
       "      <td>0</td>\n",
       "      <td>0</td>\n",
       "      <td>1</td>\n",
       "    </tr>\n",
       "    <tr>\n",
       "      <th>889</th>\n",
       "      <td>0</td>\n",
       "      <td>0</td>\n",
       "      <td>0</td>\n",
       "      <td>1</td>\n",
       "      <td>1</td>\n",
       "      <td>0</td>\n",
       "      <td>0</td>\n",
       "      <td>1</td>\n",
       "      <td>0</td>\n",
       "      <td>0</td>\n",
       "    </tr>\n",
       "    <tr>\n",
       "      <th>890</th>\n",
       "      <td>0</td>\n",
       "      <td>0</td>\n",
       "      <td>0</td>\n",
       "      <td>1</td>\n",
       "      <td>0</td>\n",
       "      <td>1</td>\n",
       "      <td>0</td>\n",
       "      <td>0</td>\n",
       "      <td>0</td>\n",
       "      <td>1</td>\n",
       "    </tr>\n",
       "  </tbody>\n",
       "</table>\n",
       "<p>891 rows × 10 columns</p>\n",
       "</div>"
      ],
      "text/plain": [
       "     SibSp  Parch  Sex_female  Sex_male  Embarked_C  Embarked_Q  Embarked_S  \\\n",
       "0        1      0           0         1           0           0           1   \n",
       "1        1      0           1         0           1           0           0   \n",
       "2        0      0           1         0           0           0           1   \n",
       "3        1      0           1         0           0           0           1   \n",
       "4        0      0           0         1           0           0           1   \n",
       "..     ...    ...         ...       ...         ...         ...         ...   \n",
       "886      0      0           0         1           0           0           1   \n",
       "887      0      0           1         0           0           0           1   \n",
       "888      1      2           1         0           0           0           1   \n",
       "889      0      0           0         1           1           0           0   \n",
       "890      0      0           0         1           0           1           0   \n",
       "\n",
       "     Pclass_1  Pclass_2  Pclass_3  \n",
       "0           0         0         1  \n",
       "1           1         0         0  \n",
       "2           0         0         1  \n",
       "3           1         0         0  \n",
       "4           0         0         1  \n",
       "..        ...       ...       ...  \n",
       "886         0         1         0  \n",
       "887         1         0         0  \n",
       "888         0         0         1  \n",
       "889         1         0         0  \n",
       "890         0         0         1  \n",
       "\n",
       "[891 rows x 10 columns]"
      ]
     },
     "execution_count": 2,
     "metadata": {},
     "output_type": "execute_result"
    }
   ],
   "source": [
    "import pandas as pd\n",
    "df= pd.read_csv('../datas/csv/titanic_train.csv')\n",
    "titanic_y = df['Survived']\n",
    "titanic_x = df[['Pclass','SibSp','Parch','Embarked', 'Sex']]\n",
    "titanic_x = pd.get_dummies(titanic_x, columns=['Sex', 'Embarked', 'Pclass'])\n",
    "titanic_x"
   ]
  },
  {
   "cell_type": "code",
   "execution_count": 3,
   "metadata": {},
   "outputs": [],
   "source": [
    "from sklearn.model_selection import train_test_split\n",
    "x_train, x_test, y_train, y_test = train_test_split(titanic_x,titanic_y, test_size=0.2)"
   ]
  },
  {
   "cell_type": "code",
   "execution_count": 6,
   "metadata": {},
   "outputs": [
    {
     "data": {
      "text/plain": [
       "((179, 10), pandas.core.frame.DataFrame, array([0]), numpy.ndarray)"
      ]
     },
     "execution_count": 6,
     "metadata": {},
     "output_type": "execute_result"
    }
   ],
   "source": [
    "from sklearn.linear_model import LogisticRegression\n",
    "log = LogisticRegression()\n",
    "log.fit(x_train, y_train)"
   ]
  },
  {
   "cell_type": "code",
   "execution_count": 11,
   "metadata": {},
   "outputs": [
    {
     "data": {
      "text/plain": [
       "(array([[-0.19769341, -0.08241154,  1.39559001, -1.3953556 ,  0.30670879,\n",
       "         -0.10946039, -0.2763734 ,  0.78914913,  0.12449837, -0.9134131 ]]),\n",
       " array([0.26288355]))"
      ]
     },
     "execution_count": 11,
     "metadata": {},
     "output_type": "execute_result"
    }
   ],
   "source": [
    "log.coef_, log.intercept_"
   ]
  },
  {
   "cell_type": "code",
   "execution_count": 5,
   "metadata": {},
   "outputs": [
    {
     "data": {
      "text/plain": [
       "array([1, 1, 0, 0, 0, 0, 0, 0, 1, 0, 1, 1, 0, 0, 1, 0, 1, 0, 0, 0, 1, 0,\n",
       "       0, 0, 0, 0, 0, 0, 1, 1, 1, 0, 1, 0, 0, 0, 0, 0, 0, 1, 1, 1, 1, 1,\n",
       "       0, 1, 0, 1, 1, 1, 1, 1, 0, 1, 0, 0, 0, 0, 0, 1, 0, 1, 0, 0, 1, 0,\n",
       "       1, 0, 0, 0, 0, 1, 0, 1, 0, 1, 1, 0, 0, 1, 0, 1, 1, 0, 1, 0, 0, 0,\n",
       "       1, 0, 0, 1, 0, 1, 0, 1, 0, 0, 0, 1, 0, 1, 0, 0, 1, 0, 0, 0, 0, 0,\n",
       "       0, 1, 0, 0, 1, 0, 1, 0, 0, 1, 0, 1, 1, 0, 1, 1, 0, 0, 0, 0, 1, 0,\n",
       "       0, 0, 0, 0, 0, 0, 0, 1, 0, 0, 1, 1, 0, 0, 0, 0, 1, 0, 0, 0, 0, 1,\n",
       "       0, 0, 0, 0, 0, 0, 0, 0, 0, 0, 1, 1, 0, 0, 0, 0, 0, 0, 0, 0, 0, 0,\n",
       "       1, 0, 0])"
      ]
     },
     "execution_count": 5,
     "metadata": {},
     "output_type": "execute_result"
    }
   ],
   "source": [
    "predictions = log.predict(x_test)\t# predict 확인\n",
    "predictions"
   ]
  },
  {
   "cell_type": "code",
   "execution_count": 12,
   "metadata": {},
   "outputs": [
    {
     "data": {
      "text/plain": [
       "array([[0.18144344, 0.81855656],\n",
       "       [0.07961257, 0.92038743],\n",
       "       [0.92552874, 0.07447126],\n",
       "       [0.9831867 , 0.0168133 ],\n",
       "       [0.55831036, 0.44168964],\n",
       "       [0.53105825, 0.46894175],\n",
       "       [0.78318884, 0.21681116],\n",
       "       [0.65014948, 0.34985052],\n",
       "       [0.2588855 , 0.7411145 ],\n",
       "       [0.92552874, 0.07447126],\n",
       "       [0.13101804, 0.86898196],\n",
       "       [0.34624182, 0.65375818],\n",
       "       [0.82699126, 0.17300874],\n",
       "       [0.78318884, 0.21681116],\n",
       "       [0.13101804, 0.86898196],\n",
       "       [0.91070378, 0.08929622],\n",
       "       [0.34624182, 0.65375818],\n",
       "       [0.69368197, 0.30631803],\n",
       "       [0.65014948, 0.34985052],\n",
       "       [0.78318884, 0.21681116],\n",
       "       [0.19400604, 0.80599396],\n",
       "       [0.78318884, 0.21681116],\n",
       "       [0.91070378, 0.08929622],\n",
       "       [0.70018314, 0.29981686],\n",
       "       [0.65014948, 0.34985052],\n",
       "       [0.78318884, 0.21681116],\n",
       "       [0.91070378, 0.08929622],\n",
       "       [0.91070378, 0.08929622],\n",
       "       [0.05984249, 0.94015751],\n",
       "       [0.4529937 , 0.5470063 ],\n",
       "       [0.18144344, 0.81855656],\n",
       "       [0.50915251, 0.49084749],\n",
       "       [0.38492705, 0.61507295],\n",
       "       [0.91070378, 0.08929622],\n",
       "       [0.50915251, 0.49084749],\n",
       "       [0.91070378, 0.08929622],\n",
       "       [0.91070378, 0.08929622],\n",
       "       [0.91070378, 0.08929622],\n",
       "       [0.65014948, 0.34985052],\n",
       "       [0.38492705, 0.61507295],\n",
       "       [0.05984249, 0.94015751],\n",
       "       [0.18144344, 0.81855656],\n",
       "       [0.42461317, 0.57538683],\n",
       "       [0.22679572, 0.77320428],\n",
       "       [0.91949094, 0.08050906],\n",
       "       [0.34624182, 0.65375818],\n",
       "       [0.78318884, 0.21681116],\n",
       "       [0.0719818 , 0.9280182 ],\n",
       "       [0.38492705, 0.61507295],\n",
       "       [0.38492705, 0.61507295],\n",
       "       [0.22679572, 0.77320428],\n",
       "       [0.21267012, 0.78732988],\n",
       "       [0.91070378, 0.08929622],\n",
       "       [0.14481479, 0.85518521],\n",
       "       [0.78318884, 0.21681116],\n",
       "       [0.61937815, 0.38062185],\n",
       "       [0.50915251, 0.49084749],\n",
       "       [0.88280667, 0.11719333],\n",
       "       [0.91070378, 0.08929622],\n",
       "       [0.24157168, 0.75842832],\n",
       "       [0.69368197, 0.30631803],\n",
       "       [0.07768486, 0.92231514],\n",
       "       [0.68665333, 0.31334667],\n",
       "       [0.85347816, 0.14652184],\n",
       "       [0.12200746, 0.87799254],\n",
       "       [0.91070378, 0.08929622],\n",
       "       [0.47348226, 0.52651774],\n",
       "       [0.61937815, 0.38062185],\n",
       "       [0.91070378, 0.08929622],\n",
       "       [0.91070378, 0.08929622],\n",
       "       [0.70393103, 0.29606897],\n",
       "       [0.13101804, 0.86898196],\n",
       "       [0.72754706, 0.27245294],\n",
       "       [0.4529937 , 0.5470063 ],\n",
       "       [0.91070378, 0.08929622],\n",
       "       [0.22679572, 0.77320428],\n",
       "       [0.07768486, 0.92231514],\n",
       "       [0.69368197, 0.30631803],\n",
       "       [0.91070378, 0.08929622],\n",
       "       [0.0719818 , 0.9280182 ],\n",
       "       [0.65014948, 0.34985052],\n",
       "       [0.43266317, 0.56733683],\n",
       "       [0.43266317, 0.56733683],\n",
       "       [0.85058242, 0.14941758],\n",
       "       [0.4529937 , 0.5470063 ],\n",
       "       [0.91070378, 0.08929622],\n",
       "       [0.87400785, 0.12599215],\n",
       "       [0.81488059, 0.18511941],\n",
       "       [0.18144344, 0.81855656],\n",
       "       [0.91070378, 0.08929622],\n",
       "       [0.95384653, 0.04615347],\n",
       "       [0.11010385, 0.88989615],\n",
       "       [0.91070378, 0.08929622],\n",
       "       [0.29857856, 0.70142144],\n",
       "       [0.91070378, 0.08929622],\n",
       "       [0.43266317, 0.56733683],\n",
       "       [0.91070378, 0.08929622],\n",
       "       [0.91070378, 0.08929622],\n",
       "       [0.91070378, 0.08929622],\n",
       "       [0.39223988, 0.60776012],\n",
       "       [0.91070378, 0.08929622],\n",
       "       [0.34624182, 0.65375818],\n",
       "       [0.78318884, 0.21681116],\n",
       "       [0.91070378, 0.08929622],\n",
       "       [0.13111405, 0.86888595],\n",
       "       [0.65014948, 0.34985052],\n",
       "       [0.91070378, 0.08929622],\n",
       "       [0.91070378, 0.08929622],\n",
       "       [0.66846816, 0.33153184],\n",
       "       [0.91070378, 0.08929622],\n",
       "       [0.65014948, 0.34985052],\n",
       "       [0.06465077, 0.93534923],\n",
       "       [0.91070378, 0.08929622],\n",
       "       [0.93101353, 0.06898647],\n",
       "       [0.18144344, 0.81855656],\n",
       "       [0.89616724, 0.10383276],\n",
       "       [0.05984249, 0.94015751],\n",
       "       [0.85058242, 0.14941758],\n",
       "       [0.55831036, 0.44168964],\n",
       "       [0.30905635, 0.69094365],\n",
       "       [0.85058242, 0.14941758],\n",
       "       [0.48168314, 0.51831686],\n",
       "       [0.18144344, 0.81855656],\n",
       "       [0.55831036, 0.44168964],\n",
       "       [0.15095066, 0.84904934],\n",
       "       [0.05984249, 0.94015751],\n",
       "       [0.92552874, 0.07447126],\n",
       "       [0.89616724, 0.10383276],\n",
       "       [0.91070378, 0.08929622],\n",
       "       [0.69368197, 0.30631803],\n",
       "       [0.14079135, 0.85920865],\n",
       "       [0.92552874, 0.07447126],\n",
       "       [0.55831036, 0.44168964],\n",
       "       [0.69368197, 0.30631803],\n",
       "       [0.91070378, 0.08929622],\n",
       "       [0.95606698, 0.04393302],\n",
       "       [0.91070378, 0.08929622],\n",
       "       [0.91070378, 0.08929622],\n",
       "       [0.65014948, 0.34985052],\n",
       "       [0.22679572, 0.77320428],\n",
       "       [0.74341251, 0.25658749],\n",
       "       [0.71073539, 0.28926461],\n",
       "       [0.34624182, 0.65375818],\n",
       "       [0.14079135, 0.85920865],\n",
       "       [0.93805986, 0.06194014],\n",
       "       [0.91070378, 0.08929622],\n",
       "       [0.91070378, 0.08929622],\n",
       "       [0.91070378, 0.08929622],\n",
       "       [0.43266317, 0.56733683],\n",
       "       [0.85058242, 0.14941758],\n",
       "       [0.85058242, 0.14941758],\n",
       "       [0.91070378, 0.08929622],\n",
       "       [0.89616724, 0.10383276],\n",
       "       [0.38492705, 0.61507295],\n",
       "       [0.78318884, 0.21681116],\n",
       "       [0.96998399, 0.03001601],\n",
       "       [0.89616724, 0.10383276],\n",
       "       [0.66865494, 0.33134506],\n",
       "       [0.78318884, 0.21681116],\n",
       "       [0.91070378, 0.08929622],\n",
       "       [0.96998399, 0.03001601],\n",
       "       [0.9831867 , 0.0168133 ],\n",
       "       [0.69368197, 0.30631803],\n",
       "       [0.78318884, 0.21681116],\n",
       "       [0.12200746, 0.87799254],\n",
       "       [0.10236219, 0.89763781],\n",
       "       [0.65014948, 0.34985052],\n",
       "       [0.85058242, 0.14941758],\n",
       "       [0.65014948, 0.34985052],\n",
       "       [0.91070378, 0.08929622],\n",
       "       [0.85058242, 0.14941758],\n",
       "       [0.91070378, 0.08929622],\n",
       "       [0.91070378, 0.08929622],\n",
       "       [0.91317548, 0.08682452],\n",
       "       [0.78318884, 0.21681116],\n",
       "       [0.78318884, 0.21681116],\n",
       "       [0.05984249, 0.94015751],\n",
       "       [0.93805986, 0.06194014],\n",
       "       [0.85058242, 0.14941758]])"
      ]
     },
     "execution_count": 12,
     "metadata": {},
     "output_type": "execute_result"
    }
   ],
   "source": [
    "predict_proba = log.predict_proba(x_test)\t# 정확도 확인\n",
    "predict_proba"
   ]
  },
  {
   "cell_type": "code",
   "execution_count": 10,
   "metadata": {},
   "outputs": [
    {
     "data": {
      "text/plain": [
       "((179, 10), pandas.core.frame.DataFrame, array([0]), numpy.ndarray)"
      ]
     },
     "execution_count": 10,
     "metadata": {},
     "output_type": "execute_result"
    }
   ],
   "source": [
    "result = log.predict([[0, 1, 0, 1, 0, 0, 1, 0, 1, 0]])\t# titanic_x와 변수 개수 일치 필요.\n",
    "x_test.shape, type(x_test), result, type(result) # Depend on accuracy"
   ]
  },
  {
   "cell_type": "code",
   "execution_count": null,
   "metadata": {},
   "outputs": [],
   "source": []
  },
  {
   "cell_type": "code",
   "execution_count": 7,
   "metadata": {},
   "outputs": [
    {
     "data": {
      "text/plain": [
       "0.770949720670391"
      ]
     },
     "execution_count": 7,
     "metadata": {},
     "output_type": "execute_result"
    }
   ],
   "source": [
    "from sklearn.metrics import accuracy_score\n",
    "accuracy_score(y_test, predictions)"
   ]
  },
  {
   "cell_type": "code",
   "execution_count": 8,
   "metadata": {},
   "outputs": [],
   "source": [
    "import pickle\n",
    "pickle.dump(log, open( \"../datas/log.pkl\", \"wb\" ))"
   ]
  },
  {
   "cell_type": "code",
   "execution_count": 1,
   "metadata": {},
   "outputs": [
    {
     "name": "stdout",
     "output_type": "stream",
     "text": [
      "\u001b[34mcsv\u001b[m\u001b[m     log.pkl\r\n"
     ]
    }
   ],
   "source": [
    "!ls ../datas"
   ]
  },
  {
   "cell_type": "code",
   "execution_count": 2,
   "metadata": {},
   "outputs": [
    {
     "data": {
      "text/plain": [
       "array([0])"
      ]
     },
     "execution_count": 2,
     "metadata": {},
     "output_type": "execute_result"
    }
   ],
   "source": [
    "#Open Other Session and then Upload log.pkl\n",
    "import pickle\n",
    "log_picke = pickle.load( open( \"../datas/log.pkl\", \"rb\" ) )\n",
    "from sklearn.linear_model import LogisticRegression\n",
    "result = log_picke.predict([[0, 1, 0, 1, 0, 0, 1, 0, 1, 0]])\n",
    "result"
   ]
  },
  {
   "cell_type": "code",
   "execution_count": 3,
   "metadata": {},
   "outputs": [
    {
     "data": {
      "text/plain": [
       "10"
      ]
     },
     "execution_count": 3,
     "metadata": {},
     "output_type": "execute_result"
    }
   ],
   "source": [
    "len([0, 1, 0, 1, 0, 0, 1, 0, 1, 0])"
   ]
  },
  {
   "cell_type": "code",
   "execution_count": null,
   "metadata": {},
   "outputs": [],
   "source": []
  }
 ],
 "metadata": {
  "kernelspec": {
   "display_name": "Python 3",
   "language": "python",
   "name": "python3"
  },
  "language_info": {
   "codemirror_mode": {
    "name": "ipython",
    "version": 3
   },
   "file_extension": ".py",
   "mimetype": "text/x-python",
   "name": "python",
   "nbconvert_exporter": "python",
   "pygments_lexer": "ipython3",
   "version": "3.8.6"
  }
 },
 "nbformat": 4,
 "nbformat_minor": 4
}

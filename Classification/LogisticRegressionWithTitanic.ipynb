{
 "cells": [
  {
   "cell_type": "code",
   "execution_count": null,
   "metadata": {},
   "outputs": [],
   "source": [
    "import pandas as pd\n",
    "df= pd.read_excel('titanic.csv')\n",
    "titanic_y = df['Survived']\n",
    "titanic_x = df[['Pclass','SibSp','Parch','Embarked', 'Sex']]\n",
    "titanic_x = pd.get_dummies(titanic_x, columns=['Sex', 'Embarked', 'Pclass'])\n",
    "titanic_x"
   ]
  },
  {
   "cell_type": "code",
   "execution_count": null,
   "metadata": {},
   "outputs": [],
   "source": [
    "from sklearn.model_selection import train_test_split\n",
    "x_train, x_test, y_train, y_test = train_test_split(titanic_x,titanic_y, test_size=0.2)"
   ]
  },
  {
   "cell_type": "code",
   "execution_count": null,
   "metadata": {},
   "outputs": [],
   "source": [
    "from sklearn.linear_model import LogisticRegression\n",
    "log = LogisticRegression()\n",
    "log.fit(x_train, y_train)\n",
    "result = log.predict([[0, 1, 0, 1, 0, 0, 1, 0, 1, 0]])\t# titanic_x와 변수 개수 일치 필요.\n",
    "x_test.shape, type(x_test), result, type(result)\n",
    "(179, 7), …, array([1]), …\t# Depend on accuracy\n",
    "predictions = log.predict(x_test)\t# 정확도 확인\n",
    "predictioins"
   ]
  },
  {
   "cell_type": "code",
   "execution_count": null,
   "metadata": {},
   "outputs": [],
   "source": [
    "from sklearn.metrics import accuracy_score\n",
    "accuracy_score(y_test, predictions)"
   ]
  }
 ],
 "metadata": {
  "kernelspec": {
   "display_name": "Python 3",
   "language": "python",
   "name": "python3"
  },
  "language_info": {
   "codemirror_mode": {
    "name": "ipython",
    "version": 3
   },
   "file_extension": ".py",
   "mimetype": "text/x-python",
   "name": "python",
   "nbconvert_exporter": "python",
   "pygments_lexer": "ipython3",
   "version": "3.8.6"
  }
 },
 "nbformat": 4,
 "nbformat_minor": 4
}

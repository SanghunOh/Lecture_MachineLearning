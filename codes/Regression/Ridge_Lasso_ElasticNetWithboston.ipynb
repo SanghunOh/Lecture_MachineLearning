{
 "cells": [
  {
   "cell_type": "markdown",
   "metadata": {
    "colab_type": "text",
    "id": "C5OrS1gpsRZI"
   },
   "source": [
    "## boston dataset from sklearn"
   ]
  },
  {
   "cell_type": "code",
   "execution_count": 1,
   "metadata": {
    "colab": {},
    "colab_type": "code",
    "executionInfo": {
     "elapsed": 1930,
     "status": "ok",
     "timestamp": 1592554500488,
     "user": {
      "displayName": "sanghun oh",
      "photoUrl": "https://lh3.googleusercontent.com/a-/AOh14Ghlx86owSfLI1ysBzewc-4sBRVA0uQ32rdNEjLr1Q=s64",
      "userId": "06412681606171338922"
     },
     "user_tz": -540
    },
    "id": "h638K1GMr5MC"
   },
   "outputs": [],
   "source": [
    "from sklearn.model_selection import train_test_split\n",
    "from sklearn import datasets"
   ]
  },
  {
   "cell_type": "code",
   "execution_count": 2,
   "metadata": {
    "colab": {
     "base_uri": "https://localhost:8080/",
     "height": 35
    },
    "colab_type": "code",
    "executionInfo": {
     "elapsed": 1918,
     "status": "ok",
     "timestamp": 1592554500490,
     "user": {
      "displayName": "sanghun oh",
      "photoUrl": "https://lh3.googleusercontent.com/a-/AOh14Ghlx86owSfLI1ysBzewc-4sBRVA0uQ32rdNEjLr1Q=s64",
      "userId": "06412681606171338922"
     },
     "user_tz": -540
    },
    "id": "-shZIxfSsjZf",
    "outputId": "17b4a3ef-de6f-4437-9c92-6e90876b20ee"
   },
   "outputs": [
    {
     "data": {
      "text/plain": [
       "sklearn.utils.Bunch"
      ]
     },
     "execution_count": 2,
     "metadata": {},
     "output_type": "execute_result"
    }
   ],
   "source": [
    "boston_dataset = datasets.load_boston()\n",
    "type(boston_dataset)"
   ]
  },
  {
   "cell_type": "code",
   "execution_count": 3,
   "metadata": {
    "colab": {
     "base_uri": "https://localhost:8080/",
     "height": 35
    },
    "colab_type": "code",
    "executionInfo": {
     "elapsed": 1909,
     "status": "ok",
     "timestamp": 1592554500491,
     "user": {
      "displayName": "sanghun oh",
      "photoUrl": "https://lh3.googleusercontent.com/a-/AOh14Ghlx86owSfLI1ysBzewc-4sBRVA0uQ32rdNEjLr1Q=s64",
      "userId": "06412681606171338922"
     },
     "user_tz": -540
    },
    "id": "RkdkZvKag1uC",
    "outputId": "eeaa0d4c-43d8-42ca-c66d-fdcd659b2c63"
   },
   "outputs": [
    {
     "data": {
      "text/plain": [
       "dict_keys(['data', 'target', 'feature_names', 'DESCR', 'filename'])"
      ]
     },
     "execution_count": 3,
     "metadata": {},
     "output_type": "execute_result"
    }
   ],
   "source": [
    "boston_dataset.keys()"
   ]
  },
  {
   "cell_type": "code",
   "execution_count": 4,
   "metadata": {
    "colab": {
     "base_uri": "https://localhost:8080/",
     "height": 53
    },
    "colab_type": "code",
    "executionInfo": {
     "elapsed": 1894,
     "status": "ok",
     "timestamp": 1592554500492,
     "user": {
      "displayName": "sanghun oh",
      "photoUrl": "https://lh3.googleusercontent.com/a-/AOh14Ghlx86owSfLI1ysBzewc-4sBRVA0uQ32rdNEjLr1Q=s64",
      "userId": "06412681606171338922"
     },
     "user_tz": -540
    },
    "id": "lf8sep7lAN1Q",
    "outputId": "1e3ba1d8-0c9a-4b7c-c5c3-2b8a3a74f201"
   },
   "outputs": [
    {
     "data": {
      "text/plain": [
       "array(['CRIM', 'ZN', 'INDUS', 'CHAS', 'NOX', 'RM', 'AGE', 'DIS', 'RAD',\n",
       "       'TAX', 'PTRATIO', 'B', 'LSTAT'], dtype='<U7')"
      ]
     },
     "execution_count": 4,
     "metadata": {},
     "output_type": "execute_result"
    }
   ],
   "source": [
    "boston_dataset.feature_names"
   ]
  },
  {
   "cell_type": "markdown",
   "metadata": {
    "colab_type": "text",
    "id": "UQ0M_axhsq0Y"
   },
   "source": [
    "## get data and label(target) from boston dataset"
   ]
  },
  {
   "cell_type": "code",
   "execution_count": 5,
   "metadata": {
    "colab": {},
    "colab_type": "code",
    "id": "ZVYIaSQDssfP"
   },
   "outputs": [],
   "source": [
    "boston_data = boston_dataset.data\n",
    "boston_target = boston_dataset.target"
   ]
  },
  {
   "cell_type": "markdown",
   "metadata": {
    "colab_type": "text",
    "id": "L-_YEN6ftDh2"
   },
   "source": [
    "### saperate train set and test set"
   ]
  },
  {
   "cell_type": "code",
   "execution_count": 6,
   "metadata": {
    "colab": {
     "base_uri": "https://localhost:8080/",
     "height": 578
    },
    "colab_type": "code",
    "executionInfo": {
     "elapsed": 65537,
     "status": "ok",
     "timestamp": 1589803135185,
     "user": {
      "displayName": "sanghun oh",
      "photoUrl": "https://lh3.googleusercontent.com/a-/AOh14Ghlx86owSfLI1ysBzewc-4sBRVA0uQ32rdNEjLr1Q=s64",
      "userId": "06412681606171338922"
     },
     "user_tz": -540
    },
    "id": "RnYe-mYws4xz",
    "outputId": "06589e10-8aa7-403f-b0d2-b7f4b7378f99"
   },
   "outputs": [
    {
     "data": {
      "text/plain": [
       "(numpy.ndarray,\n",
       " array([26.7, 21.7, 22. , 22.9, 10.4]),\n",
       " array([22.6, 50. , 23. ,  8.3, 21.2]),\n",
       " array([[3.58090e-01, 0.00000e+00, 6.20000e+00, 1.00000e+00, 5.07000e-01,\n",
       "         6.95100e+00, 8.85000e+01, 2.86170e+00, 8.00000e+00, 3.07000e+02,\n",
       "         1.74000e+01, 3.91700e+02, 9.71000e+00],\n",
       "        [1.58760e-01, 0.00000e+00, 1.08100e+01, 0.00000e+00, 4.13000e-01,\n",
       "         5.96100e+00, 1.75000e+01, 5.28730e+00, 4.00000e+00, 3.05000e+02,\n",
       "         1.92000e+01, 3.76940e+02, 9.88000e+00],\n",
       "        [1.13290e-01, 3.00000e+01, 4.93000e+00, 0.00000e+00, 4.28000e-01,\n",
       "         6.89700e+00, 5.43000e+01, 6.33610e+00, 6.00000e+00, 3.00000e+02,\n",
       "         1.66000e+01, 3.91250e+02, 1.13800e+01],\n",
       "        [8.82900e-02, 1.25000e+01, 7.87000e+00, 0.00000e+00, 5.24000e-01,\n",
       "         6.01200e+00, 6.66000e+01, 5.56050e+00, 5.00000e+00, 3.11000e+02,\n",
       "         1.52000e+01, 3.95600e+02, 1.24300e+01],\n",
       "        [2.59406e+01, 0.00000e+00, 1.81000e+01, 0.00000e+00, 6.79000e-01,\n",
       "         5.30400e+00, 8.91000e+01, 1.64750e+00, 2.40000e+01, 6.66000e+02,\n",
       "         2.02000e+01, 1.27360e+02, 2.66400e+01]]),\n",
       " array([[6.72400e-02, 0.00000e+00, 3.24000e+00, 0.00000e+00, 4.60000e-01,\n",
       "         6.33300e+00, 1.72000e+01, 5.21460e+00, 4.00000e+00, 4.30000e+02,\n",
       "         1.69000e+01, 3.75210e+02, 7.34000e+00],\n",
       "        [9.23230e+00, 0.00000e+00, 1.81000e+01, 0.00000e+00, 6.31000e-01,\n",
       "         6.21600e+00, 1.00000e+02, 1.16910e+00, 2.40000e+01, 6.66000e+02,\n",
       "         2.02000e+01, 3.66150e+02, 9.53000e+00],\n",
       "        [1.14250e-01, 0.00000e+00, 1.38900e+01, 1.00000e+00, 5.50000e-01,\n",
       "         6.37300e+00, 9.24000e+01, 3.36330e+00, 5.00000e+00, 2.76000e+02,\n",
       "         1.64000e+01, 3.93740e+02, 1.05000e+01],\n",
       "        [2.48017e+01, 0.00000e+00, 1.81000e+01, 0.00000e+00, 6.93000e-01,\n",
       "         5.34900e+00, 9.60000e+01, 1.70280e+00, 2.40000e+01, 6.66000e+02,\n",
       "         2.02000e+01, 3.96900e+02, 1.97700e+01],\n",
       "        [5.64600e-02, 0.00000e+00, 1.28300e+01, 0.00000e+00, 4.37000e-01,\n",
       "         6.23200e+00, 5.37000e+01, 5.01410e+00, 5.00000e+00, 3.98000e+02,\n",
       "         1.87000e+01, 3.86400e+02, 1.23400e+01]]))"
      ]
     },
     "execution_count": 6,
     "metadata": {},
     "output_type": "execute_result"
    }
   ],
   "source": [
    "train_boston_data, test_boston_data, train_boston_target, test_boston_target = train_test_split(boston_data, boston_target, test_size=0.2, random_state=0 )\n",
    "type(train_boston_target[:5]), train_boston_target[:5], test_boston_target[:5], train_boston_data[:5], test_boston_data[:5]"
   ]
  },
  {
   "cell_type": "markdown",
   "metadata": {
    "colab_type": "text",
    "id": "12oqLXJighZO"
   },
   "source": [
    "##LinearRegression"
   ]
  },
  {
   "cell_type": "code",
   "execution_count": 7,
   "metadata": {
    "colab": {},
    "colab_type": "code",
    "id": "cPLZ56drZeyX"
   },
   "outputs": [],
   "source": [
    "from sklearn.linear_model import  LinearRegression"
   ]
  },
  {
   "cell_type": "markdown",
   "metadata": {
    "colab_type": "text",
    "id": "pnYvQVUTqbYU"
   },
   "source": [
    "## ?model evaluation\n",
    "http://mjgim.me/2018/02/28/regression.html, \n",
    "https://scikit-learn.org/stable/modules/model_evaluation.html#regression-metrics"
   ]
  },
  {
   "cell_type": "markdown",
   "metadata": {
    "colab_type": "text",
    "id": "JZ6-rTt_iaaO"
   },
   "source": [
    "##Other Model"
   ]
  },
  {
   "cell_type": "code",
   "execution_count": 8,
   "metadata": {
    "colab": {
     "base_uri": "https://localhost:8080/",
     "height": 153
    },
    "colab_type": "code",
    "executionInfo": {
     "elapsed": 874,
     "status": "ok",
     "timestamp": 1589805719886,
     "user": {
      "displayName": "sanghun oh",
      "photoUrl": "https://lh3.googleusercontent.com/a-/AOh14Ghlx86owSfLI1ysBzewc-4sBRVA0uQ32rdNEjLr1Q=s64",
      "userId": "06412681606171338922"
     },
     "user_tz": -540
    },
    "id": "6DUk9AlkiYC3",
    "outputId": "58dad433-2fba-4fcf-8a10-28d2073d76e7"
   },
   "outputs": [],
   "source": [
    "result = dict()\n",
    "\n",
    "linearRegression = LinearRegression()\n",
    "linearRegression.fit(train_boston_data, train_boston_target)\n",
    "result['linearRegression'] = linearRegression.score(test_boston_data, test_boston_target) \n",
    "\n",
    "from sklearn.linear_model import Ridge\n",
    "ridge = Ridge()\n",
    "ridge.fit(train_boston_data, train_boston_target)\n",
    "result['ridge'] = ridge.score(test_boston_data, test_boston_target) \n",
    "\n",
    "ridge_5 = Ridge(alpha=0.5)\n",
    "ridge_5.fit(train_boston_data, train_boston_target)\n",
    "result['ridge_5'] = ridge_5.score(test_boston_data, test_boston_target) \n",
    "\n",
    "ridge_1 = Ridge(alpha=0.1)\n",
    "ridge_1.fit(train_boston_data, train_boston_target)\n",
    "result['ridge_1'] = ridge_1.score(test_boston_data, test_boston_target) \n",
    "\n",
    "from sklearn.linear_model import Lasso\n",
    "lasso = Lasso()\n",
    "lasso.fit(train_boston_data, train_boston_target)\n",
    "result['lasso'] = lasso.score(test_boston_data, test_boston_target) \n",
    "\n",
    "lasso_1 = Lasso(alpha=1)\n",
    "lasso_1.fit(train_boston_data, train_boston_target)\n",
    "result['lasso_1'] = lasso_1.score(test_boston_data, test_boston_target) \n",
    "\n",
    "from sklearn.linear_model import ElasticNet\n",
    "elasticNet = ElasticNet(alpha=0.5)\n",
    "elasticNet.fit(train_boston_data, train_boston_target)\n",
    "result['elasticNet'] = elasticNet.score(test_boston_data, test_boston_target) \n"
   ]
  },
  {
   "cell_type": "code",
   "execution_count": null,
   "metadata": {},
   "outputs": [],
   "source": []
  }
 ],
 "metadata": {
  "colab": {
   "collapsed_sections": [],
   "name": "03.LinearRegressionWithboston.ipynb",
   "provenance": [],
   "toc_visible": true
  },
  "kernelspec": {
   "display_name": "Python 3",
   "language": "python",
   "name": "python3"
  },
  "language_info": {
   "codemirror_mode": {
    "name": "ipython",
    "version": 3
   },
   "file_extension": ".py",
   "mimetype": "text/x-python",
   "name": "python",
   "nbconvert_exporter": "python",
   "pygments_lexer": "ipython3",
   "version": "3.8.6"
  }
 },
 "nbformat": 4,
 "nbformat_minor": 1
}

{
 "cells": [
  {
   "cell_type": "code",
   "execution_count": null,
   "metadata": {
    "colab": {
     "base_uri": "https://localhost:8080/",
     "height": 179
    },
    "colab_type": "code",
    "executionInfo": {
     "elapsed": 5409,
     "status": "ok",
     "timestamp": 1590630149799,
     "user": {
      "displayName": "sanghun oh",
      "photoUrl": "https://lh3.googleusercontent.com/a-/AOh14Ghlx86owSfLI1ysBzewc-4sBRVA0uQ32rdNEjLr1Q=s64",
      "userId": "06412681606171338922"
     },
     "user_tz": -540
    },
    "id": "YPhF_nr191kQ",
    "outputId": "d2e58715-3337-4f22-98d6-bece8c973ebd"
   },
   "outputs": [
    {
     "name": "stdout",
     "output_type": "stream",
     "text": [
      "Collecting wget\n",
      "  Downloading https://files.pythonhosted.org/packages/47/6a/62e288da7bcda82b935ff0c6cfe542970f04e29c756b0e147251b2fb251f/wget-3.2.zip\n",
      "Building wheels for collected packages: wget\n",
      "  Building wheel for wget (setup.py) ... \u001b[?25l\u001b[?25hdone\n",
      "  Created wheel for wget: filename=wget-3.2-cp36-none-any.whl size=9682 sha256=2b6d9f5775cf6905e6987786f9ecd414a8fe3898894ee3b65481c753160a1c24\n",
      "  Stored in directory: /root/.cache/pip/wheels/40/15/30/7d8f7cea2902b4db79e3fea550d7d7b85ecb27ef992b618f3f\n",
      "Successfully built wget\n",
      "Installing collected packages: wget\n",
      "Successfully installed wget-3.2\n"
     ]
    }
   ],
   "source": [
    "!pip3 install wget"
   ]
  },
  {
   "cell_type": "code",
   "execution_count": null,
   "metadata": {
    "colab": {},
    "colab_type": "code",
    "id": "x68mCn3O4VBV"
   },
   "outputs": [],
   "source": [
    "import wget"
   ]
  },
  {
   "cell_type": "markdown",
   "metadata": {
    "colab_type": "text",
    "id": "pdBtWGXv8POL"
   },
   "source": [
    "## read dataset and pandas"
   ]
  },
  {
   "cell_type": "code",
   "execution_count": null,
   "metadata": {
    "colab": {
     "base_uri": "https://localhost:8080/",
     "height": 35
    },
    "colab_type": "code",
    "executionInfo": {
     "elapsed": 6396,
     "status": "ok",
     "timestamp": 1590630150804,
     "user": {
      "displayName": "sanghun oh",
      "photoUrl": "https://lh3.googleusercontent.com/a-/AOh14Ghlx86owSfLI1ysBzewc-4sBRVA0uQ32rdNEjLr1Q=s64",
      "userId": "06412681606171338922"
     },
     "user_tz": -540
    },
    "id": "ZtMrZDe45NGd",
    "outputId": "b7f1e065-dbb0-437b-b3e5-01362a7c1a5f"
   },
   "outputs": [
    {
     "data": {
      "text/plain": [
       "'ratings_train.txt'"
      ]
     },
     "execution_count": 3,
     "metadata": {
      "tags": []
     },
     "output_type": "execute_result"
    }
   ],
   "source": [
    "wget.download('https://raw.githubusercontent.com/e9t/nsmc/master/ratings.txt')\n",
    "wget.download('https://raw.githubusercontent.com/e9t/nsmc/master/ratings_test.txt')\n",
    "wget.download('https://raw.githubusercontent.com/e9t/nsmc/master/ratings_train.txt')"
   ]
  },
  {
   "cell_type": "code",
   "execution_count": null,
   "metadata": {
    "colab": {
     "base_uri": "https://localhost:8080/",
     "height": 204
    },
    "colab_type": "code",
    "executionInfo": {
     "elapsed": 6388,
     "status": "ok",
     "timestamp": 1590630150805,
     "user": {
      "displayName": "sanghun oh",
      "photoUrl": "https://lh3.googleusercontent.com/a-/AOh14Ghlx86owSfLI1ysBzewc-4sBRVA0uQ32rdNEjLr1Q=s64",
      "userId": "06412681606171338922"
     },
     "user_tz": -540
    },
    "id": "gpmobLoO5UPZ",
    "outputId": "5977c5b0-c717-4576-b35f-ac9318d375ce"
   },
   "outputs": [
    {
     "data": {
      "text/html": [
       "<div>\n",
       "<style scoped>\n",
       "    .dataframe tbody tr th:only-of-type {\n",
       "        vertical-align: middle;\n",
       "    }\n",
       "\n",
       "    .dataframe tbody tr th {\n",
       "        vertical-align: top;\n",
       "    }\n",
       "\n",
       "    .dataframe thead th {\n",
       "        text-align: right;\n",
       "    }\n",
       "</style>\n",
       "<table border=\"1\" class=\"dataframe\">\n",
       "  <thead>\n",
       "    <tr style=\"text-align: right;\">\n",
       "      <th></th>\n",
       "      <th>id</th>\n",
       "      <th>document</th>\n",
       "      <th>label</th>\n",
       "    </tr>\n",
       "  </thead>\n",
       "  <tbody>\n",
       "    <tr>\n",
       "      <th>0</th>\n",
       "      <td>9976970</td>\n",
       "      <td>아 더빙.. 진짜 짜증나네요 목소리</td>\n",
       "      <td>0</td>\n",
       "    </tr>\n",
       "    <tr>\n",
       "      <th>1</th>\n",
       "      <td>3819312</td>\n",
       "      <td>흠...포스터보고 초딩영화줄....오버연기조차 가볍지 않구나</td>\n",
       "      <td>1</td>\n",
       "    </tr>\n",
       "    <tr>\n",
       "      <th>2</th>\n",
       "      <td>10265843</td>\n",
       "      <td>너무재밓었다그래서보는것을추천한다</td>\n",
       "      <td>0</td>\n",
       "    </tr>\n",
       "    <tr>\n",
       "      <th>3</th>\n",
       "      <td>9045019</td>\n",
       "      <td>교도소 이야기구먼 ..솔직히 재미는 없다..평점 조정</td>\n",
       "      <td>0</td>\n",
       "    </tr>\n",
       "    <tr>\n",
       "      <th>4</th>\n",
       "      <td>6483659</td>\n",
       "      <td>사이몬페그의 익살스런 연기가 돋보였던 영화!스파이더맨에서 늙어보이기만 했던 커스틴 ...</td>\n",
       "      <td>1</td>\n",
       "    </tr>\n",
       "  </tbody>\n",
       "</table>\n",
       "</div>"
      ],
      "text/plain": [
       "         id                                           document  label\n",
       "0   9976970                                아 더빙.. 진짜 짜증나네요 목소리      0\n",
       "1   3819312                  흠...포스터보고 초딩영화줄....오버연기조차 가볍지 않구나      1\n",
       "2  10265843                                  너무재밓었다그래서보는것을추천한다      0\n",
       "3   9045019                      교도소 이야기구먼 ..솔직히 재미는 없다..평점 조정      0\n",
       "4   6483659  사이몬페그의 익살스런 연기가 돋보였던 영화!스파이더맨에서 늙어보이기만 했던 커스틴 ...      1"
      ]
     },
     "execution_count": 4,
     "metadata": {
      "tags": []
     },
     "output_type": "execute_result"
    }
   ],
   "source": [
    "import pandas as pd\n",
    "train_df = pd.read_csv('ratings_train.txt', sep='\\t')\n",
    "train_df.head()"
   ]
  },
  {
   "cell_type": "code",
   "execution_count": null,
   "metadata": {
    "colab": {
     "base_uri": "https://localhost:8080/",
     "height": 197
    },
    "colab_type": "code",
    "executionInfo": {
     "elapsed": 6378,
     "status": "ok",
     "timestamp": 1590630150805,
     "user": {
      "displayName": "sanghun oh",
      "photoUrl": "https://lh3.googleusercontent.com/a-/AOh14Ghlx86owSfLI1ysBzewc-4sBRVA0uQ32rdNEjLr1Q=s64",
      "userId": "06412681606171338922"
     },
     "user_tz": -540
    },
    "id": "6s48Xisu560m",
    "outputId": "ab49eced-50fd-4a30-80a0-f6976ca43f56"
   },
   "outputs": [
    {
     "name": "stdout",
     "output_type": "stream",
     "text": [
      "<class 'pandas.core.frame.DataFrame'>\n",
      "RangeIndex: 150000 entries, 0 to 149999\n",
      "Data columns (total 3 columns):\n",
      " #   Column    Non-Null Count   Dtype \n",
      "---  ------    --------------   ----- \n",
      " 0   id        150000 non-null  int64 \n",
      " 1   document  149995 non-null  object\n",
      " 2   label     150000 non-null  int64 \n",
      "dtypes: int64(2), object(1)\n",
      "memory usage: 3.4+ MB\n"
     ]
    }
   ],
   "source": [
    "train_df.info()"
   ]
  },
  {
   "cell_type": "code",
   "execution_count": null,
   "metadata": {
    "colab": {
     "base_uri": "https://localhost:8080/",
     "height": 71
    },
    "colab_type": "code",
    "executionInfo": {
     "elapsed": 6645,
     "status": "ok",
     "timestamp": 1590630151080,
     "user": {
      "displayName": "sanghun oh",
      "photoUrl": "https://lh3.googleusercontent.com/a-/AOh14Ghlx86owSfLI1ysBzewc-4sBRVA0uQ32rdNEjLr1Q=s64",
      "userId": "06412681606171338922"
     },
     "user_tz": -540
    },
    "id": "F-1zm__j7Kie",
    "outputId": "11d93f40-dbf8-4675-eeca-d43ee596dffb"
   },
   "outputs": [
    {
     "data": {
      "text/plain": [
       "0    75173\n",
       "1    74827\n",
       "Name: label, dtype: int64"
      ]
     },
     "execution_count": 6,
     "metadata": {
      "tags": []
     },
     "output_type": "execute_result"
    }
   ],
   "source": [
    "train_df['label'].value_counts()"
   ]
  },
  {
   "cell_type": "code",
   "execution_count": null,
   "metadata": {
    "colab": {
     "base_uri": "https://localhost:8080/",
     "height": 71
    },
    "colab_type": "code",
    "executionInfo": {
     "elapsed": 6637,
     "status": "ok",
     "timestamp": 1590630151081,
     "user": {
      "displayName": "sanghun oh",
      "photoUrl": "https://lh3.googleusercontent.com/a-/AOh14Ghlx86owSfLI1ysBzewc-4sBRVA0uQ32rdNEjLr1Q=s64",
      "userId": "06412681606171338922"
     },
     "user_tz": -540
    },
    "id": "9kQQ17TF7cQv",
    "outputId": "9d36852d-8744-4806-8ee4-4b1eed327850"
   },
   "outputs": [
    {
     "data": {
      "text/plain": [
       "False    149995\n",
       "True          5\n",
       "Name: document, dtype: int64"
      ]
     },
     "execution_count": 7,
     "metadata": {
      "tags": []
     },
     "output_type": "execute_result"
    }
   ],
   "source": [
    "train_df['document'].isna().value_counts()"
   ]
  },
  {
   "cell_type": "code",
   "execution_count": null,
   "metadata": {
    "colab": {},
    "colab_type": "code",
    "id": "DehRKKts8BSd"
   },
   "outputs": [],
   "source": [
    "import re\n",
    "train_df = train_df.fillna(' ')\n",
    "train_df['document'] = train_df['document'].apply(lambda x : re.sub(r'\\d+',' ',x))"
   ]
  },
  {
   "cell_type": "markdown",
   "metadata": {
    "colab_type": "text",
    "id": "AKdkMfVx9EnQ"
   },
   "source": [
    "## read test dataset"
   ]
  },
  {
   "cell_type": "code",
   "execution_count": null,
   "metadata": {
    "colab": {
     "base_uri": "https://localhost:8080/",
     "height": 197
    },
    "colab_type": "code",
    "executionInfo": {
     "elapsed": 6902,
     "status": "ok",
     "timestamp": 1590630151362,
     "user": {
      "displayName": "sanghun oh",
      "photoUrl": "https://lh3.googleusercontent.com/a-/AOh14Ghlx86owSfLI1ysBzewc-4sBRVA0uQ32rdNEjLr1Q=s64",
      "userId": "06412681606171338922"
     },
     "user_tz": -540
    },
    "id": "lSx0PZyD9Jhu",
    "outputId": "1812a922-4c45-4d50-bada-c2d0c7517539"
   },
   "outputs": [
    {
     "name": "stdout",
     "output_type": "stream",
     "text": [
      "<class 'pandas.core.frame.DataFrame'>\n",
      "RangeIndex: 50000 entries, 0 to 49999\n",
      "Data columns (total 3 columns):\n",
      " #   Column    Non-Null Count  Dtype \n",
      "---  ------    --------------  ----- \n",
      " 0   id        50000 non-null  int64 \n",
      " 1   document  50000 non-null  object\n",
      " 2   label     50000 non-null  int64 \n",
      "dtypes: int64(2), object(1)\n",
      "memory usage: 1.1+ MB\n"
     ]
    }
   ],
   "source": [
    "test_df = pd.read_csv('ratings_test.txt', sep='\\t')\n",
    "test_df = test_df.fillna(' ')\n",
    "test_df['document'] = test_df['document'].apply(lambda x : re.sub(r'\\d+',' ',x))\n",
    "test_df.info()\n"
   ]
  },
  {
   "cell_type": "markdown",
   "metadata": {
    "colab_type": "text",
    "id": "TYKGIwHH-N-r"
   },
   "source": [
    "## sklearen"
   ]
  },
  {
   "cell_type": "code",
   "execution_count": null,
   "metadata": {
    "colab": {},
    "colab_type": "code",
    "id": "KSqlNf9d-I0l"
   },
   "outputs": [],
   "source": [
    "\n",
    "from sklearn.feature_extraction.text import TfidfVectorizer\n"
   ]
  },
  {
   "cell_type": "markdown",
   "metadata": {
    "colab_type": "text",
    "id": "0fXdV_5e_21r"
   },
   "source": [
    "## import KoNLPy"
   ]
  },
  {
   "cell_type": "code",
   "execution_count": null,
   "metadata": {
    "colab": {
     "base_uri": "https://localhost:8080/",
     "height": 613
    },
    "colab_type": "code",
    "executionInfo": {
     "elapsed": 12557,
     "status": "ok",
     "timestamp": 1590630157033,
     "user": {
      "displayName": "sanghun oh",
      "photoUrl": "https://lh3.googleusercontent.com/a-/AOh14Ghlx86owSfLI1ysBzewc-4sBRVA0uQ32rdNEjLr1Q=s64",
      "userId": "06412681606171338922"
     },
     "user_tz": -540
    },
    "id": "agvYizn8-ppg",
    "outputId": "efc82802-c56c-47b5-83b5-9c44e7e6a527"
   },
   "outputs": [
    {
     "name": "stdout",
     "output_type": "stream",
     "text": [
      "Collecting konlpy\n",
      "\u001b[?25l  Downloading https://files.pythonhosted.org/packages/85/0e/f385566fec837c0b83f216b2da65db9997b35dd675e107752005b7d392b1/konlpy-0.5.2-py2.py3-none-any.whl (19.4MB)\n",
      "\u001b[K     |████████████████████████████████| 19.4MB 163kB/s \n",
      "\u001b[?25hCollecting colorama\n",
      "  Downloading https://files.pythonhosted.org/packages/c9/dc/45cdef1b4d119eb96316b3117e6d5708a08029992b2fee2c143c7a0a5cc5/colorama-0.4.3-py2.py3-none-any.whl\n",
      "Collecting beautifulsoup4==4.6.0\n",
      "\u001b[?25l  Downloading https://files.pythonhosted.org/packages/9e/d4/10f46e5cfac773e22707237bfcd51bbffeaf0a576b0a847ec7ab15bd7ace/beautifulsoup4-4.6.0-py3-none-any.whl (86kB)\n",
      "\u001b[K     |████████████████████████████████| 92kB 12.1MB/s \n",
      "\u001b[?25hCollecting JPype1>=0.7.0\n",
      "\u001b[?25l  Downloading https://files.pythonhosted.org/packages/2d/9b/e115101a833605b3c0e6f3a2bc1f285c95aaa1d93ab808314ca1bde63eed/JPype1-0.7.5-cp36-cp36m-manylinux2010_x86_64.whl (3.6MB)\n",
      "\u001b[K     |████████████████████████████████| 3.6MB 52.8MB/s \n",
      "\u001b[?25hRequirement already satisfied: lxml>=4.1.0 in /usr/local/lib/python3.6/dist-packages (from konlpy) (4.2.6)\n",
      "Requirement already satisfied: numpy>=1.6 in /usr/local/lib/python3.6/dist-packages (from konlpy) (1.18.4)\n",
      "Collecting tweepy>=3.7.0\n",
      "  Downloading https://files.pythonhosted.org/packages/36/1b/2bd38043d22ade352fc3d3902cf30ce0e2f4bf285be3b304a2782a767aec/tweepy-3.8.0-py2.py3-none-any.whl\n",
      "Requirement already satisfied: requests-oauthlib>=0.7.0 in /usr/local/lib/python3.6/dist-packages (from tweepy>=3.7.0->konlpy) (1.3.0)\n",
      "Requirement already satisfied: requests>=2.11.1 in /usr/local/lib/python3.6/dist-packages (from tweepy>=3.7.0->konlpy) (2.23.0)\n",
      "Requirement already satisfied: PySocks>=1.5.7 in /usr/local/lib/python3.6/dist-packages (from tweepy>=3.7.0->konlpy) (1.7.1)\n",
      "Requirement already satisfied: six>=1.10.0 in /usr/local/lib/python3.6/dist-packages (from tweepy>=3.7.0->konlpy) (1.12.0)\n",
      "Requirement already satisfied: oauthlib>=3.0.0 in /usr/local/lib/python3.6/dist-packages (from requests-oauthlib>=0.7.0->tweepy>=3.7.0->konlpy) (3.1.0)\n",
      "Requirement already satisfied: idna<3,>=2.5 in /usr/local/lib/python3.6/dist-packages (from requests>=2.11.1->tweepy>=3.7.0->konlpy) (2.9)\n",
      "Requirement already satisfied: chardet<4,>=3.0.2 in /usr/local/lib/python3.6/dist-packages (from requests>=2.11.1->tweepy>=3.7.0->konlpy) (3.0.4)\n",
      "Requirement already satisfied: certifi>=2017.4.17 in /usr/local/lib/python3.6/dist-packages (from requests>=2.11.1->tweepy>=3.7.0->konlpy) (2020.4.5.1)\n",
      "Requirement already satisfied: urllib3!=1.25.0,!=1.25.1,<1.26,>=1.21.1 in /usr/local/lib/python3.6/dist-packages (from requests>=2.11.1->tweepy>=3.7.0->konlpy) (1.24.3)\n",
      "Installing collected packages: colorama, beautifulsoup4, JPype1, tweepy, konlpy\n",
      "  Found existing installation: beautifulsoup4 4.6.3\n",
      "    Uninstalling beautifulsoup4-4.6.3:\n",
      "      Successfully uninstalled beautifulsoup4-4.6.3\n",
      "  Found existing installation: tweepy 3.6.0\n",
      "    Uninstalling tweepy-3.6.0:\n",
      "      Successfully uninstalled tweepy-3.6.0\n",
      "Successfully installed JPype1-0.7.5 beautifulsoup4-4.6.0 colorama-0.4.3 konlpy-0.5.2 tweepy-3.8.0\n"
     ]
    }
   ],
   "source": [
    "!pip3 install konlpy"
   ]
  },
  {
   "cell_type": "code",
   "execution_count": null,
   "metadata": {
    "colab": {},
    "colab_type": "code",
    "id": "UqJiBnwZ-vOA"
   },
   "outputs": [],
   "source": [
    "from konlpy.tag import Okt\n",
    "okt = Okt()"
   ]
  },
  {
   "cell_type": "code",
   "execution_count": null,
   "metadata": {
    "colab": {
     "base_uri": "https://localhost:8080/",
     "height": 35
    },
    "colab_type": "code",
    "executionInfo": {
     "elapsed": 19663,
     "status": "ok",
     "timestamp": 1590630164155,
     "user": {
      "displayName": "sanghun oh",
      "photoUrl": "https://lh3.googleusercontent.com/a-/AOh14Ghlx86owSfLI1ysBzewc-4sBRVA0uQ32rdNEjLr1Q=s64",
      "userId": "06412681606171338922"
     },
     "user_tz": -540
    },
    "id": "qRctoKxU_eFd",
    "outputId": "fafd70f0-a3ca-4a3f-d288-aae10bb87d87"
   },
   "outputs": [
    {
     "data": {
      "text/plain": [
       "['아', '더빙', '..', '진짜', '짜증나네요', '.', '목소리']"
      ]
     },
     "execution_count": 13,
     "metadata": {
      "tags": []
     },
     "output_type": "execute_result"
    }
   ],
   "source": [
    "okt.morphs('아 더빙.. 진짜 짜증나네요. 목소리')"
   ]
  },
  {
   "cell_type": "code",
   "execution_count": null,
   "metadata": {
    "colab": {},
    "colab_type": "code",
    "id": "XRmV24d3-2Kg"
   },
   "outputs": [],
   "source": [
    "tfidfVectorizer = TfidfVectorizer(tokenizer=okt.morphs, ngram_range=(1,2), min_df=3, max_df=0.9)"
   ]
  },
  {
   "cell_type": "code",
   "execution_count": null,
   "metadata": {
    "colab": {
     "base_uri": "https://localhost:8080/",
     "height": 71
    },
    "colab_type": "code",
    "executionInfo": {
     "elapsed": 430842,
     "status": "ok",
     "timestamp": 1590630028497,
     "user": {
      "displayName": "sanghun oh",
      "photoUrl": "https://lh3.googleusercontent.com/a-/AOh14Ghlx86owSfLI1ysBzewc-4sBRVA0uQ32rdNEjLr1Q=s64",
      "userId": "06412681606171338922"
     },
     "user_tz": -540
    },
    "id": "V6Jmm8N4_OpG",
    "outputId": "8148563c-fe92-452f-d33c-83d1d3a4cb73"
   },
   "outputs": [
    {
     "name": "stdout",
     "output_type": "stream",
     "text": [
      "start time : 2020-05-28 01:33:24.639029\n",
      "end time : 2020-05-28 01:40:27.061273\n",
      "running time : 0:07:02.422529\n"
     ]
    }
   ],
   "source": [
    "import datetime\n",
    "running_time = datetime.datetime.now()\n",
    "print('start time : ' + str(running_time))\n",
    "\n",
    "tfidVec_matrix_train = tfidfVectorizer.fit_transform(train_df['document'])\n",
    "\n",
    "print('end time : ' + str(datetime.datetime.now()))\n",
    "print('running time : ' + str(datetime.datetime.now() - running_time))"
   ]
  },
  {
   "cell_type": "code",
   "execution_count": null,
   "metadata": {
    "colab": {
     "base_uri": "https://localhost:8080/",
     "height": 53
    },
    "colab_type": "code",
    "executionInfo": {
     "elapsed": 430836,
     "status": "ok",
     "timestamp": 1590630028499,
     "user": {
      "displayName": "sanghun oh",
      "photoUrl": "https://lh3.googleusercontent.com/a-/AOh14Ghlx86owSfLI1ysBzewc-4sBRVA0uQ32rdNEjLr1Q=s64",
      "userId": "06412681606171338922"
     },
     "user_tz": -540
    },
    "id": "E_Ews3S7I5V6",
    "outputId": "390dd433-bc63-4e23-84ec-7ad913830c61"
   },
   "outputs": [
    {
     "data": {
      "text/plain": [
       "<150000x129276 sparse matrix of type '<class 'numpy.float64'>'\n",
       "\twith 3069141 stored elements in Compressed Sparse Row format>"
      ]
     },
     "execution_count": 29,
     "metadata": {
      "tags": []
     },
     "output_type": "execute_result"
    }
   ],
   "source": [
    "tfidVec_matrix_train"
   ]
  },
  {
   "cell_type": "markdown",
   "metadata": {
    "colab_type": "text",
    "id": "YMRihXUTHlLu"
   },
   "source": [
    "## Training LogisticRegresstion with GridSearchCV"
   ]
  },
  {
   "cell_type": "code",
   "execution_count": null,
   "metadata": {
    "colab": {},
    "colab_type": "code",
    "id": "kldV6eq5DUmQ"
   },
   "outputs": [],
   "source": [
    "from sklearn.linear_model import LogisticRegression\n",
    "from sklearn.model_selection import GridSearchCV"
   ]
  },
  {
   "cell_type": "code",
   "execution_count": null,
   "metadata": {
    "colab": {},
    "colab_type": "code",
    "id": "s8ijBZrHH34V"
   },
   "outputs": [],
   "source": [
    "logisticRegression = LogisticRegression(random_state=0)"
   ]
  },
  {
   "cell_type": "markdown",
   "metadata": {
    "colab_type": "text",
    "id": "T37NxtgzifOw"
   },
   "source": [
    "## GridSearchCV"
   ]
  },
  {
   "cell_type": "code",
   "execution_count": null,
   "metadata": {
    "colab": {},
    "colab_type": "code",
    "id": "c-2RrjfcH9x0"
   },
   "outputs": [],
   "source": [
    "running_time = datetime.datetime.now()\n",
    "print('start time : ' + str(running_time))\n",
    "\n",
    "params = {'C':[1,3.5,4.5,5.5,10]}\n",
    "gridSearchCV = GridSearchCV(logisticRegression, param_grid=params, cv=3, scoring='accuracy', verbose=1)\n",
    "gridSearchCV.fit(tfidVec_matrix_train, train_df['label'])\n",
    "print(gridSearchCV.best_params_, round(gridSearchCV.best_score_,4))\n",
    "\n",
    "print('end time : ' + str(datetime.datetime.now()))\n",
    "print('running time : ' + str(datetime.datetime.now() - running_time))"
   ]
  },
  {
   "cell_type": "code",
   "execution_count": null,
   "metadata": {
    "colab": {},
    "colab_type": "code",
    "id": "8i0mt_-pJ8K9"
   },
   "outputs": [],
   "source": [
    "running_time = datetime.datetime.now()\n",
    "print('start time : ' + str(running_time))\n",
    "\n",
    "tfidVec_matrix_test = tfidfVectorizer.transform(test_df['document'])\n",
    "\n",
    "print('end time : ' + str(datetime.datetime.now()))\n",
    "print('running time : ' + str(datetime.datetime.now() - running_time))"
   ]
  },
  {
   "cell_type": "code",
   "execution_count": null,
   "metadata": {
    "colab": {},
    "colab_type": "code",
    "id": "kgHTqpSO8zkN"
   },
   "outputs": [],
   "source": [
    "type(test_df['document'])"
   ]
  },
  {
   "cell_type": "code",
   "execution_count": null,
   "metadata": {
    "colab": {},
    "colab_type": "code",
    "id": "qwJ_WvsqIdbv"
   },
   "outputs": [],
   "source": [
    "from sklearn.metrics import accuracy_score"
   ]
  },
  {
   "cell_type": "code",
   "execution_count": null,
   "metadata": {
    "colab": {},
    "colab_type": "code",
    "id": "KXug5ctCKQyk"
   },
   "outputs": [],
   "source": [
    "test_predict = gridSearchCV.predict(tfidVec_matrix_test)\n",
    "test_predict"
   ]
  },
  {
   "cell_type": "code",
   "execution_count": null,
   "metadata": {
    "colab": {},
    "colab_type": "code",
    "id": "eOufRPUAUI1O"
   },
   "outputs": [],
   "source": [
    "print('LogisticRegression accuracy_score', accuracy_score(test_df['label'], test_predict))"
   ]
  },
  {
   "cell_type": "code",
   "execution_count": null,
   "metadata": {
    "colab": {},
    "colab_type": "code",
    "id": "IsWr4applFLp"
   },
   "outputs": [],
   "source": [
    "from sklearn.metrics import classification_report\n",
    "print(classification_report(test_df['label'], test_predict))"
   ]
  },
  {
   "cell_type": "markdown",
   "metadata": {
    "colab_type": "text",
    "id": "ztSliUImz5c6"
   },
   "source": [
    "## Dump and Load a dictionary into a pickle file."
   ]
  },
  {
   "cell_type": "code",
   "execution_count": null,
   "metadata": {
    "colab": {},
    "colab_type": "code",
    "id": "mijbkPPTz1IL"
   },
   "outputs": [],
   "source": [
    "import pickle\n",
    "\n",
    "pickle.dump( gridSearchCV, open( \"NaverMovieRatingGridSearchCVByLogisticRegression.pkl\", \"wb\" ) )"
   ]
  },
  {
   "cell_type": "code",
   "execution_count": null,
   "metadata": {
    "colab": {},
    "colab_type": "code",
    "id": "3jF91LEL1GBf"
   },
   "outputs": [],
   "source": [
    "pkl_load = pickle.load( open( \"NaverMovieRatingGridSearchCVByLogisticRegression.pkl\", \"rb\" ) )"
   ]
  },
  {
   "cell_type": "code",
   "execution_count": null,
   "metadata": {
    "colab": {},
    "colab_type": "code",
    "id": "3gNhqIP31UHi"
   },
   "outputs": [],
   "source": [
    "pkl_predict = pkl_load.predict(tfidVec_matrix_test)"
   ]
  },
  {
   "cell_type": "code",
   "execution_count": null,
   "metadata": {
    "colab": {},
    "colab_type": "code",
    "id": "nRfeYn7y1abZ"
   },
   "outputs": [],
   "source": [
    "print('LogisticRegression accuracy_score', accuracy_score(test_df['label'], pkl_predict))"
   ]
  },
  {
   "cell_type": "code",
   "execution_count": null,
   "metadata": {
    "colab": {},
    "colab_type": "code",
    "id": "Z_gti1P61emB"
   },
   "outputs": [],
   "source": [
    "tfidVec_matrix_predict = tfidfVectorizer.transform(['정말 엉망으로 만들어 졌다.'])\n",
    "print(tfidVec_matrix_predict)"
   ]
  },
  {
   "cell_type": "code",
   "execution_count": null,
   "metadata": {
    "colab": {},
    "colab_type": "code",
    "id": "JqRlH4Ky93ZA"
   },
   "outputs": [],
   "source": [
    "pkl_predict = pkl_load.predict(tfidVec_matrix_predict)\n",
    "pkl_predict"
   ]
  },
  {
   "cell_type": "code",
   "execution_count": null,
   "metadata": {
    "colab": {},
    "colab_type": "code",
    "id": "uI9qBjrs-7Wq"
   },
   "outputs": [],
   "source": [
    "tfidVec_matrix_predict = tfidfVectorizer.transform(['방금 보고 옴. mvp: 잉그리스 여왕(혼자서 4인분 능가하는 캐리력)트롤러: 오로라(웃으면서 맘 놓게 하고 뒤통수 여러번 침, 도라이)무임탑승자: 존 왕(숙면하고 나니 염원하던 화합 이뤄짐 대박 버스)말레피센트 개고생 시키고 기어이 마지막에 한번 더 구해줬더니 오로라가 쳐웃으면서 well, well 하는 거 보고 도라이 아냐? 라고 소리내서 말함'])\n",
    "print(tfidVec_matrix_predict)"
   ]
  },
  {
   "cell_type": "code",
   "execution_count": null,
   "metadata": {
    "colab": {},
    "colab_type": "code",
    "id": "6ltImaV1_C2O"
   },
   "outputs": [],
   "source": [
    "pkl_predict = pkl_load.predict(tfidVec_matrix_predict)\n",
    "pkl_predict"
   ]
  },
  {
   "cell_type": "markdown",
   "metadata": {
    "colab_type": "text",
    "id": "LOKVx4OEi61I"
   },
   "source": []
  },
  {
   "cell_type": "markdown",
   "metadata": {
    "colab_type": "text",
    "id": "QpWtQHGmik4e"
   },
   "source": [
    "##LogisticRegression"
   ]
  },
  {
   "cell_type": "code",
   "execution_count": null,
   "metadata": {
    "colab": {},
    "colab_type": "code",
    "id": "Zksg8oz5iouL"
   },
   "outputs": [],
   "source": [
    "logisticRegression.fit(tfidVec_matrix_train, train_df['label'])\n",
    "test_predict = logisticRegression.predict(tfidVec_matrix_test)\n",
    "accuracy_score(test_df['label'], test_predict)"
   ]
  },
  {
   "cell_type": "code",
   "execution_count": null,
   "metadata": {
    "colab": {},
    "colab_type": "code",
    "id": "6KR3ddxak0ro"
   },
   "outputs": [],
   "source": [
    "from sklearn.metrics import classification_report\n",
    "print(classification_report(test_df['label'], test_predict))"
   ]
  },
  {
   "cell_type": "code",
   "execution_count": null,
   "metadata": {
    "colab": {},
    "colab_type": "code",
    "id": "Y98ZqgksjCmS"
   },
   "outputs": [],
   "source": [
    "lr_predict = logisticRegression.predict(tfidVec_matrix_predict)\n",
    "lr_predict"
   ]
  },
  {
   "cell_type": "markdown",
   "metadata": {
    "colab_type": "text",
    "id": "d2dXFAsTn4h_"
   },
   "source": [
    "#Test with LogisticRegression"
   ]
  },
  {
   "cell_type": "code",
   "execution_count": null,
   "metadata": {
    "colab": {},
    "colab_type": "code",
    "id": "o7atpxqZjMpU"
   },
   "outputs": [],
   "source": [
    "import pandas as pd\n",
    "train_df = pd.read_csv('ratings_train.txt', sep='\\t')\n",
    "import re\n",
    "train_df = train_df.dropna()\n",
    "# train_df = train_df.fillna(' ')\n",
    "# train_df['document'] = train_df['document'].apply(lambda x : re.sub(r'\\d+',' ',x))\n",
    "train_df.info()\n",
    "from sklearn.feature_extraction.text import TfidfVectorizer\n",
    "from konlpy.tag import Okt\n",
    "okt = Okt()\n",
    "okt.morphs('아 더빙.. 진짜 짜증나네요. 목소리')\n",
    "tfidfVectorizer = TfidfVectorizer(tokenizer=okt.morphs, ngram_range=(1,2), min_df=3, max_df=0.9)\n",
    "tfidVec_matrix_train = tfidfVectorizer.fit_transform(train_df['document'])\n",
    "from sklearn.linear_model import LogisticRegression\n",
    "logisticRegression = LogisticRegression(random_state=0)\n",
    "logisticRegression.fit(tfidVec_matrix_train, train_df['label'])\n",
    "tfidVec_matrix_predict = tfidfVectorizer.transform(['정말 엉망으로 만들어 졌다.'])\n",
    "print(tfidVec_matrix_predict)\n",
    "logisticRegression.predict(tfidVec_matrix_predict)"
   ]
  },
  {
   "cell_type": "markdown",
   "metadata": {
    "colab_type": "text",
    "id": "KkzT3x3CeHoh"
   },
   "source": [
    "#Test with GaussianNB"
   ]
  },
  {
   "cell_type": "code",
   "execution_count": null,
   "metadata": {
    "colab": {},
    "colab_type": "code",
    "id": "DUpyTjiYrrgr"
   },
   "outputs": [],
   "source": [
    "import pandas as pd\n",
    "train_df = pd.read_csv('ratings_train.txt', sep='\\t')\n",
    "import re\n",
    "train_df = train_df.dropna()\n",
    "train_df.info()\n",
    "from sklearn.feature_extraction.text import TfidfVectorizer\n",
    "from konlpy.tag import Okt\n",
    "okt = Okt()\n",
    "okt.morphs('아 더빙.. 진짜 짜증나네요. 목소리')\n",
    "tfidfVectorizer = TfidfVectorizer(tokenizer=okt.morphs, ngram_range=(1,2), min_df=3, max_df=0.9)\n",
    "tfidVec_matrix_train = tfidfVectorizer.fit_transform(train_df['document'])\n",
    "from sklearn.naive_bayes import GaussianNB\n",
    "gnb = GaussianNB()\n",
    "gnb.fit(tfidVec_matrix_train, train_df['label'])\n",
    "tfidVec_matrix_predict = tfidfVectorizer.transform(['정말 엉망으로 만들어 졌다.'])\n",
    "gnb.predict(tfidVec_matrix_predict)"
   ]
  },
  {
   "cell_type": "code",
   "execution_count": null,
   "metadata": {
    "colab": {},
    "colab_type": "code",
    "id": "rS3xl6Gkz0l0"
   },
   "outputs": [],
   "source": []
  },
  {
   "cell_type": "markdown",
   "metadata": {
    "colab_type": "text",
    "id": "hIIRuF-g6dUq"
   },
   "source": [
    "#Evaluation"
   ]
  },
  {
   "cell_type": "code",
   "execution_count": null,
   "metadata": {
    "colab": {
     "base_uri": "https://localhost:8080/",
     "height": 323
    },
    "colab_type": "code",
    "executionInfo": {
     "elapsed": 396744,
     "status": "ok",
     "timestamp": 1590631065014,
     "user": {
      "displayName": "sanghun oh",
      "photoUrl": "https://lh3.googleusercontent.com/a-/AOh14Ghlx86owSfLI1ysBzewc-4sBRVA0uQ32rdNEjLr1Q=s64",
      "userId": "06412681606171338922"
     },
     "user_tz": -540
    },
    "id": "PurYnyS46iuM",
    "outputId": "9b31f00a-6a33-4ca0-eb26-64d7b6c6bb9b"
   },
   "outputs": [
    {
     "name": "stderr",
     "output_type": "stream",
     "text": [
      "/usr/local/lib/python3.6/dist-packages/sklearn/linear_model/_logistic.py:940: ConvergenceWarning: lbfgs failed to converge (status=1):\n",
      "STOP: TOTAL NO. of ITERATIONS REACHED LIMIT.\n",
      "\n",
      "Increase the number of iterations (max_iter) or scale the data as shown in:\n",
      "    https://scikit-learn.org/stable/modules/preprocessing.html\n",
      "Please also refer to the documentation for alternative solver options:\n",
      "    https://scikit-learn.org/stable/modules/linear_model.html#logistic-regression\n",
      "  extra_warning_msg=_LOGISTIC_SOLVER_CONVERGENCE_MSG)\n"
     ]
    },
    {
     "name": "stdout",
     "output_type": "stream",
     "text": [
      "              precision    recall  f1-score   support\n",
      "\n",
      "           0       0.84      0.86      0.85     37646\n",
      "           1       0.86      0.84      0.85     37354\n",
      "\n",
      "    accuracy                           0.85     75000\n",
      "   macro avg       0.85      0.85      0.85     75000\n",
      "weighted avg       0.85      0.85      0.85     75000\n",
      "\n"
     ]
    }
   ],
   "source": [
    "from sklearn.model_selection import train_test_split\n",
    "x_train, x_test, y_train, y_test = train_test_split(train_df['document'],train_df['label'], test_size=0.5)\n",
    "\n",
    "tfidfVectorizer = TfidfVectorizer(tokenizer=okt.morphs, ngram_range=(1,2), min_df=3, max_df=0.9)\n",
    "x_matrix_train = tfidfVectorizer.fit_transform(x_train)\n",
    "from sklearn.linear_model import LogisticRegression\n",
    "logisticRegression = LogisticRegression(random_state=0)\n",
    "logisticRegression.fit(x_matrix_train, y_train)\n",
    "\n",
    "x_matrix = tfidfVectorizer.transform(x_test)\n",
    "y_pred = logisticRegression.predict(x_matrix)\n",
    "\n",
    "from sklearn.metrics import classification_report\n",
    "print(classification_report(y_test, y_pred))"
   ]
  },
  {
   "cell_type": "code",
   "execution_count": null,
   "metadata": {
    "colab": {
     "base_uri": "https://localhost:8080/",
     "height": 179
    },
    "colab_type": "code",
    "executionInfo": {
     "elapsed": 554,
     "status": "ok",
     "timestamp": 1590630639936,
     "user": {
      "displayName": "sanghun oh",
      "photoUrl": "https://lh3.googleusercontent.com/a-/AOh14Ghlx86owSfLI1ysBzewc-4sBRVA0uQ32rdNEjLr1Q=s64",
      "userId": "06412681606171338922"
     },
     "user_tz": -540
    },
    "id": "mRiz1CO98vc4",
    "outputId": "06279757-2540-48c9-cf96-0b18598cf7ec"
   },
   "outputs": [
    {
     "name": "stdout",
     "output_type": "stream",
     "text": [
      "              precision    recall  f1-score   support\n",
      "\n",
      "           0       0.85      0.86      0.85     22467\n",
      "           1       0.86      0.84      0.85     22533\n",
      "\n",
      "    accuracy                           0.85     45000\n",
      "   macro avg       0.85      0.85      0.85     45000\n",
      "weighted avg       0.85      0.85      0.85     45000\n",
      "\n"
     ]
    }
   ],
   "source": []
  },
  {
   "cell_type": "code",
   "execution_count": null,
   "metadata": {
    "colab": {
     "base_uri": "https://localhost:8080/",
     "height": 53
    },
    "colab_type": "code",
    "executionInfo": {
     "elapsed": 508,
     "status": "ok",
     "timestamp": 1590632687684,
     "user": {
      "displayName": "sanghun oh",
      "photoUrl": "https://lh3.googleusercontent.com/a-/AOh14Ghlx86owSfLI1ysBzewc-4sBRVA0uQ32rdNEjLr1Q=s64",
      "userId": "06412681606171338922"
     },
     "user_tz": -540
    },
    "id": "wvCzlACh-Wbd",
    "outputId": "e5d84858-465b-490c-ee3b-ea04ff1fa3f5"
   },
   "outputs": [
    {
     "data": {
      "text/plain": [
       "array([[32341,  5305],\n",
       "       [ 5997, 31357]])"
      ]
     },
     "execution_count": 17,
     "metadata": {
      "tags": []
     },
     "output_type": "execute_result"
    }
   ],
   "source": [
    "from sklearn.metrics import confusion_matrix\n",
    "confusion_matrix(y_test, y_pred)"
   ]
  },
  {
   "cell_type": "code",
   "execution_count": null,
   "metadata": {
    "colab": {},
    "colab_type": "code",
    "id": "f1FO4lrKGKXj"
   },
   "outputs": [],
   "source": []
  }
 ],
 "metadata": {
  "accelerator": "GPU",
  "colab": {
   "collapsed_sections": [],
   "name": "NaverMovieRatingByLogisticRegressionWithGridSearchCV.ipynb",
   "provenance": []
  },
  "kernelspec": {
   "display_name": "Python 3",
   "language": "python",
   "name": "python3"
  },
  "language_info": {
   "codemirror_mode": {
    "name": "ipython",
    "version": 3
   },
   "file_extension": ".py",
   "mimetype": "text/x-python",
   "name": "python",
   "nbconvert_exporter": "python",
   "pygments_lexer": "ipython3",
   "version": "3.8.6"
  }
 },
 "nbformat": 4,
 "nbformat_minor": 1
}
